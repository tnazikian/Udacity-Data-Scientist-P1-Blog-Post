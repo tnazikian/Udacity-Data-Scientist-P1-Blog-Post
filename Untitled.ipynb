{
 "cells": [
  {
   "cell_type": "code",
   "execution_count": 256,
   "id": "7e415afc-d78e-4a4f-8de0-16d38d22acab",
   "metadata": {},
   "outputs": [],
   "source": [
    "import pandas as pd\n",
    "import seaborn as sb\n",
    "import matplotlib.pyplot as plt\n",
    "import numpy as np\n",
    "import yfinance as yf\n",
    "import yahoo_fin.stock_info as si\n",
    "from datetime import datetime, timedelta\n",
    "from dateutil.relativedelta import relativedelta"
   ]
  },
  {
   "cell_type": "code",
   "execution_count": 257,
   "id": "ad7f5ad8-c5b6-468d-8667-968ac2b5cf42",
   "metadata": {},
   "outputs": [
    {
     "name": "stderr",
     "output_type": "stream",
     "text": [
      "[*********************100%%**********************]  2 of 2 completed\n"
     ]
    }
   ],
   "source": [
    "# Get MU price action data for Micron (MU)\n",
    "# mu_pa = yf.download(\"MU\")\n",
    "# nvda_pa = yf.download(\"NVDA\")\n",
    "data = yf.download(\"MU NVDA\", start=\"2010-01-02\", end=\"2024-05-18\", group_by=\"tickers\")"
   ]
  },
  {
   "cell_type": "code",
   "execution_count": 258,
   "id": "3c0d2c31-e3fa-4c4c-99df-9e80d2b5f8a3",
   "metadata": {},
   "outputs": [],
   "source": [
    "mu = yf.Ticker(\"MU\")\n",
    "nvda = yf.Ticker(\"NVDA\")"
   ]
  },
  {
   "cell_type": "code",
   "execution_count": 259,
   "id": "2ccf8e6f-317d-4985-972d-ef1f505f2120",
   "metadata": {},
   "outputs": [
    {
     "data": {
      "text/html": [
       "<div>\n",
       "<style scoped>\n",
       "    .dataframe tbody tr th:only-of-type {\n",
       "        vertical-align: middle;\n",
       "    }\n",
       "\n",
       "    .dataframe tbody tr th {\n",
       "        vertical-align: top;\n",
       "    }\n",
       "\n",
       "    .dataframe thead th {\n",
       "        text-align: right;\n",
       "    }\n",
       "</style>\n",
       "<table border=\"1\" class=\"dataframe\">\n",
       "  <thead>\n",
       "    <tr style=\"text-align: right;\">\n",
       "      <th>Price</th>\n",
       "      <th>Open</th>\n",
       "      <th>High</th>\n",
       "      <th>Low</th>\n",
       "      <th>Close</th>\n",
       "      <th>Adj Close</th>\n",
       "      <th>Volume</th>\n",
       "    </tr>\n",
       "  </thead>\n",
       "  <tbody>\n",
       "    <tr>\n",
       "      <th>count</th>\n",
       "      <td>3618.000000</td>\n",
       "      <td>3618.000000</td>\n",
       "      <td>3618.000000</td>\n",
       "      <td>3618.000000</td>\n",
       "      <td>3618.000000</td>\n",
       "      <td>3.618000e+03</td>\n",
       "    </tr>\n",
       "    <tr>\n",
       "      <th>mean</th>\n",
       "      <td>91.640372</td>\n",
       "      <td>93.294141</td>\n",
       "      <td>89.908210</td>\n",
       "      <td>91.688868</td>\n",
       "      <td>91.414139</td>\n",
       "      <td>5.053605e+07</td>\n",
       "    </tr>\n",
       "    <tr>\n",
       "      <th>std</th>\n",
       "      <td>157.842303</td>\n",
       "      <td>160.662132</td>\n",
       "      <td>154.755599</td>\n",
       "      <td>157.856658</td>\n",
       "      <td>157.908476</td>\n",
       "      <td>3.092589e+07</td>\n",
       "    </tr>\n",
       "    <tr>\n",
       "      <th>min</th>\n",
       "      <td>2.180000</td>\n",
       "      <td>2.262500</td>\n",
       "      <td>2.162500</td>\n",
       "      <td>2.220000</td>\n",
       "      <td>2.036411</td>\n",
       "      <td>4.564400e+06</td>\n",
       "    </tr>\n",
       "    <tr>\n",
       "      <th>25%</th>\n",
       "      <td>4.333750</td>\n",
       "      <td>4.412500</td>\n",
       "      <td>4.258125</td>\n",
       "      <td>4.338125</td>\n",
       "      <td>3.985105</td>\n",
       "      <td>3.105670e+07</td>\n",
       "    </tr>\n",
       "    <tr>\n",
       "      <th>50%</th>\n",
       "      <td>26.375000</td>\n",
       "      <td>26.706250</td>\n",
       "      <td>26.001250</td>\n",
       "      <td>26.497500</td>\n",
       "      <td>26.148502</td>\n",
       "      <td>4.351715e+07</td>\n",
       "    </tr>\n",
       "    <tr>\n",
       "      <th>75%</th>\n",
       "      <td>126.438749</td>\n",
       "      <td>128.546875</td>\n",
       "      <td>122.930000</td>\n",
       "      <td>126.106247</td>\n",
       "      <td>125.885859</td>\n",
       "      <td>6.120170e+07</td>\n",
       "    </tr>\n",
       "    <tr>\n",
       "      <th>max</th>\n",
       "      <td>958.510010</td>\n",
       "      <td>974.000000</td>\n",
       "      <td>941.030029</td>\n",
       "      <td>950.020020</td>\n",
       "      <td>950.020020</td>\n",
       "      <td>3.692928e+08</td>\n",
       "    </tr>\n",
       "  </tbody>\n",
       "</table>\n",
       "</div>"
      ],
      "text/plain": [
       "Price         Open         High          Low        Close    Adj Close  \\\n",
       "count  3618.000000  3618.000000  3618.000000  3618.000000  3618.000000   \n",
       "mean     91.640372    93.294141    89.908210    91.688868    91.414139   \n",
       "std     157.842303   160.662132   154.755599   157.856658   157.908476   \n",
       "min       2.180000     2.262500     2.162500     2.220000     2.036411   \n",
       "25%       4.333750     4.412500     4.258125     4.338125     3.985105   \n",
       "50%      26.375000    26.706250    26.001250    26.497500    26.148502   \n",
       "75%     126.438749   128.546875   122.930000   126.106247   125.885859   \n",
       "max     958.510010   974.000000   941.030029   950.020020   950.020020   \n",
       "\n",
       "Price        Volume  \n",
       "count  3.618000e+03  \n",
       "mean   5.053605e+07  \n",
       "std    3.092589e+07  \n",
       "min    4.564400e+06  \n",
       "25%    3.105670e+07  \n",
       "50%    4.351715e+07  \n",
       "75%    6.120170e+07  \n",
       "max    3.692928e+08  "
      ]
     },
     "execution_count": 259,
     "metadata": {},
     "output_type": "execute_result"
    }
   ],
   "source": [
    "# Get general data about MU\n",
    "# mu.info\n",
    "# nvda.info\n",
    "data[\"NVDA\"].describe()"
   ]
  },
  {
   "cell_type": "markdown",
   "id": "e38e243e-2e5b-464d-9c09-5afb049814b5",
   "metadata": {},
   "source": [
    "Get the dates of earnings for both MU and NVDA"
   ]
  },
  {
   "cell_type": "code",
   "execution_count": 260,
   "id": "15795662-f5ca-41df-b36b-d1b9327981a7",
   "metadata": {},
   "outputs": [],
   "source": [
    "\"\"\"\n",
    "Get the earnings data from a yfinance dataset\n",
    "@param ticker_str: ticker name\n",
    "@param num_years: How many years of financial data (from current time) to fetch\n",
    "@param index: controls # rows returned from yfinance api (may need modification) \n",
    "@return: filtered earnings data\n",
    "\"\"\"\n",
    "def get_earnings(ticker_str, num_years, index=100):\n",
    "    # Get today's date and calculate the date 10 years ago\n",
    "    end_date = pd.to_datetime(datetime.today())\n",
    "    start_date = pd.to_datetime(end_date - timedelta(days = num_years*365))\n",
    "    \n",
    "    # Extract the earnings dates\n",
    "    ticker = yf.Ticker(ticker_str)\n",
    "    earnings_data = ticker.get_earnings_dates(limit=index)\n",
    "    \n",
    "    # Filter the df by date\n",
    "    indeces = earnings_data.index.tz_localize(None) > start_date\n",
    "    trim_indeces = earnings_data.index.tz_localize(None) < end_date\n",
    "    filter = np.logical_and(indeces, trim_indeces) \n",
    "    earnings_data = earnings_data.loc[filter]\n",
    "\n",
    "    # Group by every 3 months to remove duplicates (seems to be bug with yfinance)\n",
    "    df_resampled = earnings_data.groupby(pd.Grouper(freq='3ME')).first()  \n",
    "    return df_resampled"
   ]
  },
  {
   "cell_type": "markdown",
   "id": "86a6fe2b-826a-431c-8ac7-502cf0668677",
   "metadata": {},
   "source": [
    "Get earnings data for NVDA and MU"
   ]
  },
  {
   "cell_type": "code",
   "execution_count": 261,
   "id": "273c9634-7c4c-4ce3-b816-ecf2cc4bbfe2",
   "metadata": {},
   "outputs": [
    {
     "name": "stdout",
     "output_type": "stream",
     "text": [
      "(56, 3)\n",
      "(56, 3)\n"
     ]
    }
   ],
   "source": [
    "nvda_er = get_earnings(\"NVDA\", 14)\n",
    "mu_er = get_earnings(\"MU\", 14)\n",
    "print(nvda_er.shape)\n",
    "print(mu_er.shape)"
   ]
  },
  {
   "cell_type": "markdown",
   "id": "c860ba9a-24ad-49f9-aa13-d0ada85e4295",
   "metadata": {},
   "source": [
    "Earnings should be just one day per quarter. It appears there are some mistakes in the dataset where multiple earnings are recorded in the same month. Let's filter out potential duplicate rows by grouping the dataset by 1 row every 3 months."
   ]
  },
  {
   "cell_type": "code",
   "execution_count": 285,
   "id": "801e76cc-4676-4a11-a20f-e269efae7b68",
   "metadata": {},
   "outputs": [],
   "source": [
    "\"\"\"\n",
    "Wrapper for plot_pa_ticker\n",
    "@param ticker: yfinance ticker\n",
    "@param start: start date in YYYY-MM-DD\n",
    "@param end: end date in YYYY-MM-DD\n",
    "@param er_data: pandas df with earnings data\n",
    "\"\"\"\n",
    "def plot_pa(ticker_str, start, end, show_earnings=False):\n",
    "    data = yf.download(ticker_str, start=start, end=end, group_by=\"tickers\")\n",
    "    er_data = None\n",
    "    # Include earnings dates\n",
    "    if show_earnings:\n",
    "        start = datetime.strptime(start, \"%Y-%m-%d\")\n",
    "        end = datetime.strptime(end, \"%Y-%m-%d\")\n",
    "        diff = relativedelta(end, start)\n",
    "        years_diff = diff.years\n",
    "        er_data = get_earnings(ticker_str, years_diff)\n",
    "    \n",
    "    plot_pa_ticker(data, er_data=er_data)"
   ]
  },
  {
   "cell_type": "code",
   "execution_count": 286,
   "id": "0e3828bb-46a0-42f4-888c-f996289df14c",
   "metadata": {},
   "outputs": [],
   "source": [
    "\"\"\"\n",
    "Helper for making a plot with earnings data\n",
    "@param data: yfinance downloaded data containing ticker price action\n",
    "@param ticker: yfinance ticker\n",
    "@param er_data: pandas df with earnings data\n",
    "\"\"\"\n",
    "def plot_pa_ticker(data, ticker_str=None, er_data=None):\n",
    "    # First, plot the historical PA\n",
    "    if ticker_str is not None:\n",
    "        sb.lineplot(data=data[ticker_str], x=data.index, y=data[ticker_str].Close)\n",
    "    else:\n",
    "        sb.lineplot(data=data, x=data.index, y=data.Close)\n",
    "\n",
    "    plt.title('{} Stock Price'.format(ticker_str))\n",
    "    plt.xlabel('Date')\n",
    "    plt.ylabel('Price')\n",
    "    plt.xticks(rotation=45) \n",
    "\n",
    "    if er_data is not None:\n",
    "        for i in range(er_data.shape[0]):\n",
    "            # append vertical lines to graph for each earnings report\n",
    "            plt.axvline(er_data.index[i], color='gray', linewidth=1)"
   ]
  },
  {
   "cell_type": "code",
   "execution_count": 287,
   "id": "2e0dd92f-d8da-4261-b1f6-e4b855d17ea4",
   "metadata": {},
   "outputs": [
    {
     "name": "stderr",
     "output_type": "stream",
     "text": [
      "[*********************100%%**********************]  1 of 1 completed\n",
      "C:\\Users\\Toshi\\anaconda3\\Lib\\site-packages\\seaborn\\_oldcore.py:1119: FutureWarning: use_inf_as_na option is deprecated and will be removed in a future version. Convert inf values to NaN before operating instead.\n",
      "  with pd.option_context('mode.use_inf_as_na', True):\n",
      "C:\\Users\\Toshi\\anaconda3\\Lib\\site-packages\\seaborn\\_oldcore.py:1119: FutureWarning: use_inf_as_na option is deprecated and will be removed in a future version. Convert inf values to NaN before operating instead.\n",
      "  with pd.option_context('mode.use_inf_as_na', True):\n"
     ]
    },
    {
     "data": {
      "image/png": "[encoded data removed]",
      "text/plain": [
       "<Figure size 640x480 with 1 Axes>"
      ]
     },
     "metadata": {},
     "output_type": "display_data"
    }
   ],
   "source": [
    "start=\"2010-01-02\"\n",
    "end=\"2024-05-18\"\n",
    "plot_pa(\"NVDA\", start, end, True)"
   ]
  },
  {
   "cell_type": "code",
   "execution_count": 224,
   "id": "e46de7cd-c717-4574-9727-7f7931f3ba73",
   "metadata": {},
   "outputs": [
    {
     "name": "stderr",
     "output_type": "stream",
     "text": [
      "C:\\Users\\Toshi\\anaconda3\\Lib\\site-packages\\seaborn\\_oldcore.py:1119: FutureWarning: use_inf_as_na option is deprecated and will be removed in a future version. Convert inf values to NaN before operating instead.\n",
      "  with pd.option_context('mode.use_inf_as_na', True):\n",
      "C:\\Users\\Toshi\\anaconda3\\Lib\\site-packages\\seaborn\\_oldcore.py:1119: FutureWarning: use_inf_as_na option is deprecated and will be removed in a future version. Convert inf values to NaN before operating instead.\n",
      "  with pd.option_context('mode.use_inf_as_na', True):\n"
     ]
    },
    {
     "data": {
      "image/png": "[encoded data removed]",
      "text/plain": [
       "<Figure size 640x480 with 1 Axes>"
      ]
     },
     "metadata": {},
     "output_type": "display_data"
    }
   ],
   "source": [
    "plot_pa_ticker(data, \"MU\", get_earnings(\"MU\", 14))"
   ]
  },
  {
   "cell_type": "code",
   "execution_count": null,
   "id": "94ae8490-1dbf-40f9-ae2a-990e1d701825",
   "metadata": {},
   "outputs": [],
   "source": []
  }
 ],
 "metadata": {
  "kernelspec": {
   "display_name": "Python 3 (ipykernel)",
   "language": "python",
   "name": "python3"
  },
  "language_info": {
   "codemirror_mode": {
    "name": "ipython",
    "version": 3
   },
   "file_extension": ".py",
   "mimetype": "text/x-python",
   "name": "python",
   "nbconvert_exporter": "python",
   "pygments_lexer": "ipython3",
   "version": "3.11.9"
  }
 },
 "nbformat": 4,
 "nbformat_minor": 5
}
